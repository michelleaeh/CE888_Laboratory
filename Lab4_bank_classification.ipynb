{
  "nbformat": 4,
  "nbformat_minor": 0,
  "metadata": {
    "colab": {
      "name": "Lab4_bank_classification.ipynb",
      "provenance": [],
      "collapsed_sections": [],
      "authorship_tag": "ABX9TyNNRlrzA2jZ1vvZ9+k3yg6z",
      "include_colab_link": true
    },
    "kernelspec": {
      "name": "python3",
      "display_name": "Python 3"
    }
  },
  "cells": [
    {
      "cell_type": "markdown",
      "metadata": {
        "id": "view-in-github",
        "colab_type": "text"
      },
      "source": [
        "<a href=\"https://colab.research.google.com/github/michelleaeh/CE888_Laboratory/blob/master/Lab4_bank_classification.ipynb\" target=\"_parent\"><img src=\"https://colab.research.google.com/assets/colab-badge.svg\" alt=\"Open In Colab\"/></a>"
      ]
    },
    {
      "cell_type": "code",
      "metadata": {
        "id": "jgINZ5DV2aKZ",
        "colab_type": "code",
        "colab": {}
      },
      "source": [
        "%matplotlib inline\n",
        "import matplotlib\n",
        "import numpy as np\n",
        "import matplotlib.pyplot as plt\n",
        "import pandas as pd\n",
        "import seaborn as sns\n",
        "import itertools\n",
        "\n",
        "from sklearn.tree import DecisionTreeRegressor\n",
        "from sklearn.ensemble import RandomForestClassifier, ExtraTreesClassifier\n",
        "from sklearn.model_selection import cross_val_score\n",
        "from sklearn.metrics import mean_squared_error as mse\n",
        "from sklearn.metrics import mean_absolute_error as mae\n",
        "from sklearn.metrics import accuracy_score as acc\n",
        "from sklearn.metrics import make_scorer, confusion_matrix\n",
        "from sklearn.dummy import DummyRegressor, DummyClassifier\n",
        "from sklearn.preprocessing import LabelEncoder\n",
        "from sklearn.model_selection import train_test_split"
      ],
      "execution_count": 0,
      "outputs": []
    },
    {
      "cell_type": "markdown",
      "metadata": {
        "id": "50hrdp-fd6lM",
        "colab_type": "text"
      },
      "source": [
        "**Load the data from bank-assitional-full.csv**"
      ]
    },
    {
      "cell_type": "code",
      "metadata": {
        "id": "XdWZZQKsd80d",
        "colab_type": "code",
        "colab": {}
      },
      "source": [
        "df=pd.read_csv(\"https://raw.githubusercontent.com/albanda/CE888/master/lab4/bank-additional-full.csv\",delimiter=\";\")"
      ],
      "execution_count": 0,
      "outputs": []
    },
    {
      "cell_type": "markdown",
      "metadata": {
        "id": "n30n9c9ad2rB",
        "colab_type": "text"
      },
      "source": [
        "**Convert to dummies using df_dummies=pd.get_dummies(df)**"
      ]
    },
    {
      "cell_type": "code",
      "metadata": {
        "id": "lpEYZrUcd0ZJ",
        "colab_type": "code",
        "colab": {}
      },
      "source": [
        "df_copy=pd.get_dummies(df)"
      ],
      "execution_count": 0,
      "outputs": []
    },
    {
      "cell_type": "markdown",
      "metadata": {
        "id": "-O2u2m8edvyh",
        "colab_type": "text"
      },
      "source": [
        "**Columns \"y_no\" and \"duration\" must be deleted - use something like del df_copy[\"attribute\"] for this**"
      ]
    },
    {
      "cell_type": "code",
      "metadata": {
        "id": "2p0thU6hdtQp",
        "colab_type": "code",
        "colab": {}
      },
      "source": [
        "del df_copy[\"y_no\"]\n",
        "del df_copy[\"duration\"]"
      ],
      "execution_count": 0,
      "outputs": []
    },
    {
      "cell_type": "markdown",
      "metadata": {
        "id": "GW4GDdDodkDd",
        "colab_type": "text"
      },
      "source": [
        "**Plot histogram of the label y_yes**"
      ]
    },
    {
      "cell_type": "code",
      "metadata": {
        "id": "btJ-lfMudhCF",
        "colab_type": "code",
        "colab": {
          "base_uri": "https://localhost:8080/",
          "height": 281
        },
        "outputId": "63ac8cc3-101a-48bb-a1c2-3aae6c0b32b1"
      },
      "source": [
        "histogram=df_copy.hist(column='y_yes')\n",
        "\n",
        "#https://stackoverflow.com/questions/42496508/histogram-on-pandas-column\n",
        "#https://pandas.pydata.org/pandas-docs/stable/reference/api/pandas.DataFrame.hist.html"
      ],
      "execution_count": 5,
      "outputs": [
        {
          "output_type": "display_data",
          "data": {
            "image/png": "[encoded data removed]",
            "text/plain": [
              "<Figure size 432x288 with 1 Axes>"
            ]
          },
          "metadata": {
            "tags": []
          }
        }
      ]
    },
    {
      "cell_type": "markdown",
      "metadata": {
        "id": "_bnPlxc5deQ9",
        "colab_type": "text"
      },
      "source": [
        "**Get the values and run a classifier (with outcome y_yes)**"
      ]
    },
    {
      "cell_type": "code",
      "metadata": {
        "id": "eZQ7P-9Fdbv5",
        "colab_type": "code",
        "colab": {}
      },
      "source": [
        "features=df_copy.drop('y_yes', axis=1)\n",
        "outcome=df_copy['y_yes']\n",
        "\n",
        "X_df=features.copy()\n",
        "X_df.head()\n",
        "y_df=outcome.copy()\n",
        "y_df.head()\n",
        "\n",
        "xtrain,xtest,ytrain,ytest=train_test_split(X_df,y_df,test_size=0.3,random_state=1)\n",
        "\n",
        "clf=ExtraTreesClassifier(n_estimators=100,max_depth=4)\n",
        "clf=clf.fit(xtrain,ytrain)\n",
        "ypred=clf.predict(xtest)"
      ],
      "execution_count": 0,
      "outputs": []
    },
    {
      "cell_type": "markdown",
      "metadata": {
        "id": "lcUSuIWpdY1x",
        "colab_type": "text"
      },
      "source": [
        "**Report the results of 10-Kfold stratified cross-validation**\n"
      ]
    },
    {
      "cell_type": "code",
      "metadata": {
        "id": "kjWwelPSdV7p",
        "colab_type": "code",
        "colab": {
          "base_uri": "https://localhost:8080/",
          "height": 85
        },
        "outputId": "fae53dba-9da0-4ad6-d1ac-e1875817af5e"
      },
      "source": [
        "scores = cross_val_score(clf, xtrain, ytrain, cv=10,scoring = make_scorer(acc))\n",
        "dummy_clf = DummyClassifier()\n",
        "dummy_clf.fit(xtrain,ytrain)\n",
        "print(\"ACC: %0.2f +/- %0.2f\" % (scores.mean(), scores.std()))\n",
        "print(\"Dummy ACC: %0.2f\"% (acc(ytest,dummy_clf.predict(xtest))))"
      ],
      "execution_count": 7,
      "outputs": [
        {
          "output_type": "stream",
          "text": [
            "ACC: 0.90 +/- 0.00\n",
            "Dummy ACC: 0.80\n"
          ],
          "name": "stdout"
        },
        {
          "output_type": "stream",
          "text": [
            "/usr/local/lib/python3.6/dist-packages/sklearn/dummy.py:132: FutureWarning: The default value of strategy will change from stratified to prior in 0.24.\n",
            "  \"stratified to prior in 0.24.\", FutureWarning)\n"
          ],
          "name": "stderr"
        }
      ]
    },
    {
      "cell_type": "markdown",
      "metadata": {
        "id": "D3fpnDB5dOgp",
        "colab_type": "text"
      },
      "source": [
        "**Get sample importances and a confusion matrix**"
      ]
    },
    {
      "cell_type": "markdown",
      "metadata": {
        "id": "xPgzy2vUdFJ1",
        "colab_type": "text"
      },
      "source": [
        "*Sample importances*"
      ]
    },
    {
      "cell_type": "code",
      "metadata": {
        "id": "Vps8EemLc94V",
        "colab_type": "code",
        "colab": {
          "base_uri": "https://localhost:8080/",
          "height": 1000
        },
        "outputId": "be7a2afe-cfd9-4289-dc3f-51f1b44a90a2"
      },
      "source": [
        "importances = clf.feature_importances_\n",
        "std = np.std([tree.feature_importances_ for tree in clf.estimators_],\n",
        "             axis=0)\n",
        "indices = np.argsort(importances)[::-1]\n",
        "\n",
        "#Print the feature ranking\n",
        "print(\"Feature ranking:\")\n",
        "features=list(df_copy.columns)\n",
        "for f in range(X_df.shape[1]):\n",
        "    print(\"%d. %s (%f)\" % (f + 1, features[indices[f]],  importances[indices[f]]))\n",
        "\n",
        "#Plot the feature importances of the forest\n",
        "fig = plt.figure()\n",
        "plt.title(\"Bank Classification\")\n",
        "plt.bar(range(X_df.shape[1]), importances[indices],\n",
        "       color=\"r\", yerr=std[indices], align=\"center\")\n",
        "plt.xticks(range(X_df.shape[1]), np.array(features)[indices],rotation=90)\n",
        "plt.xlim([-1, X_df.shape[1]])\n",
        "fig.set_size_inches(15,8)\n",
        "axes = plt.gca()\n",
        "axes.set_ylim([0,None])"
      ],
      "execution_count": 8,
      "outputs": [
        {
          "output_type": "stream",
          "text": [
            "Feature ranking:\n",
            "1. pdays (0.245060)\n",
            "2. nr.employed (0.154239)\n",
            "3. poutcome_success (0.149020)\n",
            "4. euribor3m (0.090105)\n",
            "5. emp.var.rate (0.072553)\n",
            "6. cons.conf.idx (0.038536)\n",
            "7. cons.price.idx (0.027964)\n",
            "8. poutcome_nonexistent (0.027658)\n",
            "9. contact_cellular (0.024414)\n",
            "10. month_mar (0.024105)\n",
            "11. month_may (0.020632)\n",
            "12. contact_telephone (0.016164)\n",
            "13. month_sep (0.015738)\n",
            "14. previous (0.014849)\n",
            "15. month_oct (0.014516)\n",
            "16. poutcome_failure (0.011045)\n",
            "17. default_no (0.007128)\n",
            "18. default_unknown (0.006520)\n",
            "19. job_retired (0.005663)\n",
            "20. month_jun (0.005184)\n",
            "21. job_blue-collar (0.004771)\n",
            "22. age (0.003894)\n",
            "23. month_jul (0.002739)\n",
            "24. month_dec (0.002270)\n",
            "25. month_apr (0.001976)\n",
            "26. job_student (0.001939)\n",
            "27. day_of_week_mon (0.001808)\n",
            "28. month_nov (0.001162)\n",
            "29. education_basic.9y (0.001126)\n",
            "30. month_aug (0.001117)\n",
            "31. marital_single (0.000738)\n",
            "32. marital_married (0.000500)\n",
            "33. campaign (0.000499)\n",
            "34. education_university.degree (0.000438)\n",
            "35. day_of_week_tue (0.000393)\n",
            "36. education_high.school (0.000313)\n",
            "37. day_of_week_wed (0.000294)\n",
            "38. day_of_week_fri (0.000236)\n",
            "39. job_technician (0.000221)\n",
            "40. job_services (0.000220)\n",
            "41. marital_divorced (0.000210)\n",
            "42. housing_unknown (0.000185)\n",
            "43. loan_no (0.000166)\n",
            "44. education_basic.4y (0.000162)\n",
            "45. job_management (0.000158)\n",
            "46. education_unknown (0.000147)\n",
            "47. marital_unknown (0.000141)\n",
            "48. job_self-employed (0.000139)\n",
            "49. housing_yes (0.000134)\n",
            "50. education_basic.6y (0.000133)\n",
            "51. loan_yes (0.000123)\n",
            "52. job_entrepreneur (0.000106)\n",
            "53. housing_no (0.000086)\n",
            "54. education_professional.course (0.000082)\n",
            "55. day_of_week_thu (0.000079)\n",
            "56. job_admin. (0.000058)\n",
            "57. job_unknown (0.000052)\n",
            "58. loan_unknown (0.000045)\n",
            "59. job_unemployed (0.000025)\n",
            "60. job_housemaid (0.000013)\n",
            "61. education_illiterate (0.000009)\n",
            "62. default_yes (0.000000)\n"
          ],
          "name": "stdout"
        },
        {
          "output_type": "execute_result",
          "data": {
            "text/plain": [
              "(0, 0.5730848700813335)"
            ]
          },
          "metadata": {
            "tags": []
          },
          "execution_count": 8
        },
        {
          "output_type": "display_data",
          "data": {
            "image/png": "[encoded data removed]",
            "text/plain": [
              "<Figure size 1080x576 with 1 Axes>"
            ]
          },
          "metadata": {
            "tags": []
          }
        }
      ]
    },
    {
      "cell_type": "markdown",
      "metadata": {
        "id": "JPgSaJTGdA39",
        "colab_type": "text"
      },
      "source": [
        "*Confusion matrix*"
      ]
    },
    {
      "cell_type": "code",
      "metadata": {
        "id": "LDuOhzPCcyy1",
        "colab_type": "code",
        "colab": {
          "base_uri": "https://localhost:8080/",
          "height": 231
        },
        "outputId": "68b71391-dbb6-4d75-ed77-a7ab70f83156"
      },
      "source": [
        "def plot_confusion_matrix(cm, classes,\n",
        "                          normalize=False,\n",
        "                          title='Confusion matrix',\n",
        "                          cmap=plt.cm.Blues):\n",
        "    \"\"\"\n",
        "    This function prints and plots the confusion matrix.\n",
        "    Normalization can be applied by setting `normalize=True`.\n",
        "    \"\"\"\n",
        "    if normalize:\n",
        "        cm = cm.astype('float') / cm.sum(axis=1)[:, np.newaxis]\n",
        "        print(\"Normalized confusion matrix\")\n",
        "    else:\n",
        "        print('Confusion matrix, without normalization')\n",
        "    plt.imshow(cm, interpolation='nearest', cmap=cmap)\n",
        "    plt.title(title)\n",
        "    plt.colorbar()\n",
        "    tick_marks = np.arange(len(classes))\n",
        "    plt.xticks(tick_marks, classes, rotation=45)\n",
        "    plt.yticks(tick_marks, classes)\n",
        "    thresh = cm.max() / 2.\n",
        "    for i, j in itertools.product(range(cm.shape[0]), range(cm.shape[1])):\n",
        "        t = \"(%.2f)\"%(cm[i, j])\n",
        "    plt.tight_layout()\n",
        "    plt.ylabel('True label')\n",
        "    plt.xlabel('Predicted label')\n",
        "\n",
        "#Compute confusion matrix\n",
        "y_pred = clf.predict(xtest)\n",
        "cnf_matrix = confusion_matrix(ytest, y_pred)\n",
        "np.set_printoptions(precision=2)\n",
        "\n",
        "#Plot non-normalized confusion matrix\n",
        "plt.figure()\n",
        "plot_confusion_matrix(cnf_matrix, classes=range(len(set(y))), normalize = True,\n",
        "                      title='Confusion matrix')"
      ],
      "execution_count": 9,
      "outputs": [
        {
          "output_type": "error",
          "ename": "NameError",
          "evalue": "ignored",
          "traceback": [
            "\u001b[0;31m---------------------------------------------------------------------------\u001b[0m",
            "\u001b[0;31mNameError\u001b[0m                                 Traceback (most recent call last)",
            "\u001b[0;32m<ipython-input-9-330223463ed0>\u001b[0m in \u001b[0;36m<module>\u001b[0;34m()\u001b[0m\n\u001b[1;32m     32\u001b[0m \u001b[0;31m#Plot non-normalized confusion matrix\u001b[0m\u001b[0;34m\u001b[0m\u001b[0;34m\u001b[0m\u001b[0;34m\u001b[0m\u001b[0m\n\u001b[1;32m     33\u001b[0m \u001b[0mplt\u001b[0m\u001b[0;34m.\u001b[0m\u001b[0mfigure\u001b[0m\u001b[0;34m(\u001b[0m\u001b[0;34m)\u001b[0m\u001b[0;34m\u001b[0m\u001b[0;34m\u001b[0m\u001b[0m\n\u001b[0;32m---> 34\u001b[0;31m plot_confusion_matrix(cnf_matrix, classes=range(len(set(y))), normalize = True,\n\u001b[0m\u001b[1;32m     35\u001b[0m                       title='Confusion matrix')\n",
            "\u001b[0;31mNameError\u001b[0m: name 'y' is not defined"
          ]
        },
        {
          "output_type": "display_data",
          "data": {
            "text/plain": [
              "<Figure size 432x288 with 0 Axes>"
            ]
          },
          "metadata": {
            "tags": []
          }
        }
      ]
    }
  ]
}