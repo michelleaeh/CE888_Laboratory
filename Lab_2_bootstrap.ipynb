{
  "nbformat": 4,
  "nbformat_minor": 0,
  "metadata": {
    "kernelspec": {
      "display_name": "Python 3",
      "language": "python",
      "name": "python3"
    },
    "language_info": {
      "codemirror_mode": {
        "name": "ipython",
        "version": 2
      },
      "file_extension": ".py",
      "mimetype": "text/x-python",
      "name": "python",
      "nbconvert_exporter": "python",
      "pygments_lexer": "ipython2",
      "version": "2.7.6"
    },
    "pycharm": {
      "stem_cell": {
        "cell_type": "raw",
        "source": [],
        "metadata": {
          "collapsed": false
        }
      }
    },
    "colab": {
      "name": "Lab_2_bootstrap.ipynb",
      "provenance": [],
      "collapsed_sections": [],
      "include_colab_link": true
    }
  },
  "cells": [
    {
      "cell_type": "markdown",
      "metadata": {
        "id": "view-in-github",
        "colab_type": "text"
      },
      "source": [
        "<a href=\"https://colab.research.google.com/github/michelleaeh/CE888_Laboratory/blob/master/Lab_2_bootstrap.ipynb\" target=\"_parent\"><img src=\"https://colab.research.google.com/assets/colab-badge.svg\" alt=\"Open In Colab\"/></a>"
      ]
    },
    {
      "cell_type": "markdown",
      "metadata": {
        "id": "nCi_99yMYIb1",
        "colab_type": "text"
      },
      "source": [
        "In this notebook you'll create your own bootstrap function following the bootstrap algorithm (check the lecture notes!)"
      ]
    },
    {
      "cell_type": "code",
      "metadata": {
        "pycharm": {
          "name": "#%%# Imports\n"
        },
        "id": "LY5zujI2YC37",
        "colab_type": "code",
        "colab": {}
      },
      "source": [
        "import matplotlib\n",
        "import pandas as pd\n",
        "import seaborn as sns\n",
        "import numpy as np\n",
        "\n"
      ],
      "execution_count": 0,
      "outputs": []
    },
    {
      "cell_type": "code",
      "metadata": {
        "id": "Eqkwj4SMY38t",
        "colab_type": "code",
        "colab": {}
      },
      "source": [
        "# Load the data\n",
        "df = pd.read_csv('https://raw.githubusercontent.com/albanda/CE888/master/lab2%20-%20bootstrap/customers.csv')\n",
        "data = df.values.T[1]"
      ],
      "execution_count": 0,
      "outputs": []
    },
    {
      "cell_type": "code",
      "metadata": {
        "pycharm": {
          "name": "#%%\n"
        },
        "id": "Gxvc_bScYC4H",
        "colab_type": "code",
        "colab": {}
      },
      "source": [
        "# Checking the notes from the lecture, create here your own bootstrap function:\n",
        "# 1. Create an array of samples of shape (n_iterations, sample_size)\n",
        "# 2. Calculate and save the mean of the array (this is \"data_mean\" that is returned by the function)\n",
        "# 3. In each iteration:\n",
        "# 3.1 Get the data corresponding to that iteration (new_samples[iteration, :])\n",
        "# 3.2 Calculate the mean of the iteration data and store it\n",
        "# (At this point you should have an array of n_iterations values)\n",
        "# 4. Calculate the lower and upper bounds for a 95% CI (hint: check the percentile function on Numpy)\n",
        "# 5. Return data_mean, and the lower and upper bounds of your interval\n",
        "\n",
        "def boostrap_mean(sample, sample_size, n_iterations):\n",
        "\t# <---INSERT YOUR CODE HERE--->\n",
        "\tnew_samples=np.random.choice(sample, (n_iterations, sample_size))\n",
        "\tdata_mean=np.mean(sample)\n",
        "\tmean_array=[]\n",
        "\tfor i in range(n_iterations):\n",
        "\t\tdata=new_samples[i,:]\n",
        "\t\tar_mean = np.mean(new_samples[i, :])\n",
        "\t\tmean_array.append(ar_mean)\n",
        "\t\n",
        "\tlower=np.percentile(mean_array,2.5)\n",
        "\tupper=np.percentile(mean_array,97.5)\n",
        "\treturn data_mean, lower, upper\n",
        "\n",
        "## References\n",
        "# https://docs.scipy.org/doc/numpy/reference/generated/numpy.percentile.html\n",
        "# https://www.w3schools.com/python/python_for_loops.asp\n",
        "# https://docs.python.org/3/library/random.html\n",
        "# https://docs.scipy.org/doc/numpy-1.15.0/reference/generated/numpy.random.choice.html"
      ],
      "execution_count": 0,
      "outputs": []
    },
    {
      "cell_type": "code",
      "metadata": {
        "pycharm": {
          "name": "#%%\n"
        },
        "id": "AN7sEOcMYC4P",
        "colab_type": "code",
        "outputId": "eddb7051-ce3c-4fb9-dda8-18f8aedd0367",
        "colab": {
          "base_uri": "https://localhost:8080/",
          "height": 386
        }
      },
      "source": [
        "# Call your bootstrap function and plot the results\n",
        "\n",
        "boots = []\n",
        "for i in range(100, 100000, 1000):\n",
        "    boot = boostrap_mean(data, data.shape[0], i)\n",
        "    boots.append([i, boot[0], \"mean\"])\n",
        "    boots.append([i, boot[1], \"lower\"])\n",
        "    boots.append([i, boot[2], \"upper\"])\n",
        "\n",
        "df_boot = pd.DataFrame(boots, columns=['Boostrap Iterations', 'Mean', \"Value\"])\n",
        "sns_plot = sns.lmplot(df_boot.columns[0], df_boot.columns[1], data=df_boot, fit_reg=False, hue=\"Value\")\n",
        "\n",
        "sns_plot.axes[0, 0].set_ylim(0,)\n",
        "sns_plot.axes[0, 0].set_xlim(0, 100000)\n",
        "\n",
        "#sns_plot.savefig(\"bootstrap_confidence.png\", bbox_inches='tight')\n",
        "#sns_plot.savefig(\"bootstrap_confidence.pdf\", bbox_inches='tight')\n",
        "\n"
      ],
      "execution_count": 5,
      "outputs": [
        {
          "output_type": "execute_result",
          "data": {
            "text/plain": [
              "(0, 100000)"
            ]
          },
          "metadata": {
            "tags": []
          },
          "execution_count": 5
        },
        {
          "output_type": "display_data",
          "data": {
            "image/png": "[encoded data removed]",
            "text/plain": [
              "<Figure size 425.125x360 with 1 Axes>"
            ]
          },
          "metadata": {
            "tags": []
          }
        }
      ]
    },
    {
      "cell_type": "markdown",
      "metadata": {
        "collapsed": false,
        "id": "MjtP4e2_YC4V",
        "colab_type": "text"
      },
      "source": [
        "\n",
        "Now, modify the bootstrap function so that you can pass your desired confidence interval as a parameter.\n",
        "\n"
      ]
    },
    {
      "cell_type": "code",
      "metadata": {
        "id": "3K9j0FuGYhHs",
        "colab_type": "code",
        "colab": {}
      },
      "source": [
        "def boostrap_mean_ci(sample, sample_size, iterations, ci):\n",
        "\t# <---INSERT YOUR CODE HERE--->\n",
        "\tnew_samples=np.random.choice(sample, (iterations, sample_size))\n",
        "\tdata_mean=np.mean(sample)\n",
        "\tmean_array=[]\n",
        "\tfor i in range(iterations):\n",
        "\t\tdata=new_samples[i,:]\n",
        "\t\tar_mean = np.mean(new_samples[i, :])\n",
        "\t\tmean_array.append(ar_mean)\n",
        "\n",
        "\tlower=np.percentile(mean_array,((100-ci)/2))\n",
        "\tupper=np.percentile(mean_array,(ci+(100-ci)/2))\n",
        "\treturn data_mean, lower, upper"
      ],
      "execution_count": 0,
      "outputs": []
    },
    {
      "cell_type": "code",
      "metadata": {
        "id": "uDnjq08GYl-C",
        "colab_type": "code",
        "outputId": "053020b8-158d-4468-d62d-6d22c13f8b76",
        "colab": {
          "base_uri": "https://localhost:8080/",
          "height": 369
        }
      },
      "source": [
        "\n",
        "boots = []\n",
        "for i in range(100, 100000, 1000):\n",
        "    boot = boostrap_mean_ci(data, data.shape[0], i, 80)\n",
        "    boots.append([i, boot[0], \"mean\"])\n",
        "    boots.append([i, boot[1], \"lower\"])\n",
        "    boots.append([i, boot[2], \"upper\"])\n",
        "\n",
        "df_boot = pd.DataFrame(boots, columns=['Boostrap Iterations', 'Mean', \"Value\"])\n",
        "sns_plot = sns.lmplot(df_boot.columns[0], df_boot.columns[1], data=df_boot, fit_reg=False, hue=\"Value\")\n",
        "\n",
        "sns_plot.axes[0, 0].set_ylim(0,)\n",
        "sns_plot.axes[0, 0].set_xlim(0, 100000)\n",
        "\n",
        "sns_plot.savefig(\"bootstrap_confidence_80.png\", bbox_inches='tight')\n",
        "sns_plot.savefig(\"bootstrap_confidence_80.pdf\", bbox_inches='tight')\n"
      ],
      "execution_count": 7,
      "outputs": [
        {
          "output_type": "display_data",
          "data": {
            "image/png": "[encoded data removed]",
            "text/plain": [
              "<Figure size 425.125x360 with 1 Axes>"
            ]
          },
          "metadata": {
            "tags": []
          }
        }
      ]
    },
    {
      "cell_type": "markdown",
      "metadata": {
        "id": "qjNgXW6wdd7r",
        "colab_type": "text"
      },
      "source": [
        "# Vehicles dataset\n",
        "\n",
        "Now let's work on a different dataset. Load the vehicles.csv file and check the Moodle page for instructions on how to proceed\n"
      ]
    },
    {
      "cell_type": "code",
      "metadata": {
        "id": "avWv4ipFdpka",
        "colab_type": "code",
        "outputId": "fc14bd6c-4d44-452c-cad4-7e6f398c2cdc",
        "colab": {
          "base_uri": "https://localhost:8080/",
          "height": 281
        }
      },
      "source": [
        "# Load and visualise the vehicles dataset\n",
        "# <---INSERT YOUR CODE HERE--->\n",
        "import matplotlib\n",
        "import matplotlib.pyplot as plt\n",
        "import pandas as pd\n",
        "import seaborn as sns\n",
        "import numpy as np\n",
        "\n",
        "df_a = pd.read_csv('https://raw.githubusercontent.com/albanda/CE888/master/lab2%20-%20bootstrap/vehicles.csv')\n",
        "\n",
        "df_a.hist()\n",
        "plt.show()\n",
        "\n",
        "# Note: you can add more cells as needed to organise your code and your plots"
      ],
      "execution_count": 18,
      "outputs": [
        {
          "output_type": "display_data",
          "data": {
            "image/png": "[encoded data removed]",
            "text/plain": [
              "<Figure size 432x288 with 2 Axes>"
            ]
          },
          "metadata": {
            "tags": []
          }
        }
      ]
    },
    {
      "cell_type": "code",
      "metadata": {
        "id": "HrbU1FF8acVZ",
        "colab_type": "code",
        "outputId": "1e64c1a3-69d4-4a19-d47c-4955d67aebc4",
        "colab": {
          "base_uri": "https://localhost:8080/",
          "height": 295
        }
      },
      "source": [
        "df=np.array(df_a)\n",
        "current=df[:,0]\n",
        "new=df[:,1]\n",
        "\n",
        "plt.scatter(current,new)\n",
        "plt.title(\"Scatter plot of current vs new fleets\")\n",
        "plt.xlabel(\"Current fleet\")\n",
        "plt.ylabel(\"New fleet\")\n",
        "plt.show()\n",
        "\n",
        "## Reference\n",
        "# https://stackoverflow.com/questions/42223587/plt-scatter-how-to-add-title-and-xlabel-and-ylabel\n"
      ],
      "execution_count": 87,
      "outputs": [
        {
          "output_type": "display_data",
          "data": {
            "image/png": "[encoded data removed]",
            "text/plain": [
              "<Figure size 432x288 with 1 Axes>"
            ]
          },
          "metadata": {
            "tags": []
          }
        }
      ]
    },
    {
      "cell_type": "code",
      "metadata": {
        "id": "BAKyj983dwSM",
        "colab_type": "code",
        "colab": {
          "base_uri": "https://localhost:8080/",
          "height": 34
        },
        "outputId": "0526e93b-2746-4e28-b452-abdf65460412"
      },
      "source": [
        "# Compare the two fleets.\n",
        "# You can create a permutation test function to do this. Check the lecture notes!\n",
        "tobs=np.mean(new)-np.mean(current)\n",
        "times=0\n",
        "perms=0\n",
        "\n",
        "#==============================================================================MISSING==============================================================================\n",
        "\n",
        "for i in range(20000):\n",
        "  concat=np.concatenate((current,new))\n",
        "  perm=np.random.permutation(concat)\n",
        "  pcurrent=perm[:int(len(perm)/2)]\n",
        "  pnew=perm[int(len(perm)/2):]\n",
        "  tperm=np.mean(pnew)-np.mean(pcurrent)\n",
        "  perms=perms+1\n",
        "  if (tperm>tobs):\n",
        "    times=times+1\n",
        "print(\"The pvalue is\",times/perms,\". The tperm was larger than tobs\",times,\"times.\")\n",
        "\n",
        "## References\n",
        "# https://coderwall.com/p/q_rd1q/emulate-do-while-loop-in-python"
      ],
      "execution_count": 112,
      "outputs": [
        {
          "output_type": "stream",
          "text": [
            "The pvalue is 1.0 . The tperm was larger than tobs 20000 times.\n"
          ],
          "name": "stdout"
        }
      ]
    },
    {
      "cell_type": "code",
      "metadata": {
        "id": "if-RY4aTd4CZ",
        "colab_type": "code",
        "colab": {
          "base_uri": "https://localhost:8080/",
          "height": 51
        },
        "outputId": "bb2d2a2f-4cb3-4ebf-bd20-a5c6df6d392b"
      },
      "source": [
        "#The business analysts come up a comparison algorithm that requires the upper and lower bounds for the mean in order to say which fleet is better.\n",
        "#In the bootstrap notebook:\n",
        "#1. Calculate the mean of both samples.\n",
        "#2. Using the bootstrap function that you created:\n",
        "#- Find the upper and lower bound of the mean of the current fleet.\n",
        "#- Do the same with the new fleet.\n",
        "#- Are they comparable? (i.e., is one better than the other?) -- you can do this with a permutation test (check the lecture notes!)\n",
        "\n",
        "mcurrent=np.mean(current)\n",
        "mnew=np.mean(new)\n",
        "bcurrent=boostrap_mean_ci(current, current.size, 20000, 95)\n",
        "print(\"The mean value of the current fleet is\",mcurrent,\", the lower bound value is\",bcurrent[1],\" and the upper bound value is\",bcurrent[2])\n",
        "bnew=boostrap_mean_ci(new, new.size, 20000, 95)\n",
        "print(\"The mean value of the new fleet is\",mnew,\", the lower bound value is\",bnew[1],\" and the upper bound value is\",bnew[2])"
      ],
      "execution_count": 119,
      "outputs": [
        {
          "output_type": "stream",
          "text": [
            "The mean value of the current fleet is 20.14457831325301 , the lower bound value is 19.353413654618475  and the upper bound value is 20.955823293172692\n",
            "The mean value of the new fleet is 9.670682730923694 , the lower bound value is 7.863453815261044  and the upper bound value is 11.542168674698795\n"
          ],
          "name": "stdout"
        }
      ]
    }
  ]
}