{
  "nbformat": 4,
  "nbformat_minor": 0,
  "metadata": {
    "colab": {
      "name": "Lab4_bank_classification.ipynb",
      "provenance": [],
      "collapsed_sections": [],
      "authorship_tag": "ABX9TyMtieHugtVjppQAfr7UJawQ",
      "include_colab_link": true
    },
    "kernelspec": {
      "name": "python3",
      "display_name": "Python 3"
    }
  },
  "cells": [
    {
      "cell_type": "markdown",
      "metadata": {
        "id": "view-in-github",
        "colab_type": "text"
      },
      "source": [
        "<a href=\"https://colab.research.google.com/github/michelleaeh/CE888_Laboratory/blob/master/Laboratory4/bank_classification.ipynb\" target=\"_parent\"><img src=\"https://colab.research.google.com/assets/colab-badge.svg\" alt=\"Open In Colab\"/></a>"
      ]
    },
    {
      "cell_type": "code",
      "metadata": {
        "id": "jgINZ5DV2aKZ",
        "colab_type": "code",
        "colab": {}
      },
      "source": [
        "%matplotlib inline\n",
        "import matplotlib\n",
        "import numpy as np\n",
        "import matplotlib.pyplot as plt\n",
        "import pandas as pd\n",
        "import seaborn as sns\n",
        "import itertools\n",
        "\n",
        "from sklearn.tree import DecisionTreeRegressor\n",
        "from sklearn.ensemble import RandomForestClassifier, ExtraTreesClassifier\n",
        "from sklearn.model_selection import cross_val_score\n",
        "from sklearn.metrics import mean_squared_error as mse\n",
        "from sklearn.metrics import mean_absolute_error as mae\n",
        "from sklearn.metrics import accuracy_score as acc\n",
        "from sklearn.metrics import make_scorer, confusion_matrix\n",
        "from sklearn.dummy import DummyRegressor, DummyClassifier\n",
        "from sklearn.preprocessing import LabelEncoder\n",
        "from sklearn.model_selection import train_test_split"
      ],
      "execution_count": 0,
      "outputs": []
    },
    {
      "cell_type": "markdown",
      "metadata": {
        "id": "50hrdp-fd6lM",
        "colab_type": "text"
      },
      "source": [
        "**Load the data from bank-assitional-full.csv**"
      ]
    },
    {
      "cell_type": "code",
      "metadata": {
        "id": "XdWZZQKsd80d",
        "colab_type": "code",
        "colab": {}
      },
      "source": [
        "df=pd.read_csv(\"https://raw.githubusercontent.com/albanda/CE888/master/lab4/bank-additional-full.csv\",delimiter=\";\")"
      ],
      "execution_count": 0,
      "outputs": []
    },
    {
      "cell_type": "markdown",
      "metadata": {
        "id": "n30n9c9ad2rB",
        "colab_type": "text"
      },
      "source": [
        "**Convert to dummies using df_dummies=pd.get_dummies(df)**"
      ]
    },
    {
      "cell_type": "code",
      "metadata": {
        "id": "lpEYZrUcd0ZJ",
        "colab_type": "code",
        "colab": {}
      },
      "source": [
        "df_copy=pd.get_dummies(df)"
      ],
      "execution_count": 0,
      "outputs": []
    },
    {
      "cell_type": "markdown",
      "metadata": {
        "id": "-O2u2m8edvyh",
        "colab_type": "text"
      },
      "source": [
        "**Columns \"y_no\" and \"duration\" must be deleted - use something like del df_copy[\"attribute\"] for this**"
      ]
    },
    {
      "cell_type": "code",
      "metadata": {
        "id": "2p0thU6hdtQp",
        "colab_type": "code",
        "colab": {}
      },
      "source": [
        "del df_copy[\"y_no\"]\n",
        "del df_copy[\"duration\"]"
      ],
      "execution_count": 0,
      "outputs": []
    },
    {
      "cell_type": "markdown",
      "metadata": {
        "id": "GW4GDdDodkDd",
        "colab_type": "text"
      },
      "source": [
        "**Plot histogram of the label y_yes**"
      ]
    },
    {
      "cell_type": "code",
      "metadata": {
        "id": "btJ-lfMudhCF",
        "colab_type": "code",
        "outputId": "dddd2896-db90-470f-cd23-11f3f921b75d",
        "colab": {
          "base_uri": "https://localhost:8080/",
          "height": 281
        }
      },
      "source": [
        "histogram=df_copy.hist(column='y_yes')\n",
        "\n",
        "#https://stackoverflow.com/questions/42496508/histogram-on-pandas-column\n",
        "#https://pandas.pydata.org/pandas-docs/stable/reference/api/pandas.DataFrame.hist.html"
      ],
      "execution_count": 5,
      "outputs": [
        {
          "output_type": "display_data",
          "data": {
            "image/png": "[encoded data removed]",
            "text/plain": [
              "<Figure size 432x288 with 1 Axes>"
            ]
          },
          "metadata": {
            "tags": []
          }
        }
      ]
    },
    {
      "cell_type": "markdown",
      "metadata": {
        "id": "_bnPlxc5deQ9",
        "colab_type": "text"
      },
      "source": [
        "**Get the values and run a classifier (with outcome y_yes)**"
      ]
    },
    {
      "cell_type": "code",
      "metadata": {
        "id": "eZQ7P-9Fdbv5",
        "colab_type": "code",
        "colab": {}
      },
      "source": [
        "features=df_copy.drop('y_yes', axis=1)\n",
        "outcome=df_copy['y_yes']\n",
        "\n",
        "X_df=features.copy()\n",
        "X_df.head()\n",
        "y_df=outcome.copy()\n",
        "y_df.head()\n",
        "\n",
        "xtrain,xtest,ytrain,ytest=train_test_split(X_df,y_df,test_size=0.3,random_state=1)\n",
        "\n",
        "clf=ExtraTreesClassifier(n_estimators=100,max_depth=4)\n",
        "clf=clf.fit(xtrain,ytrain)\n",
        "ypred=clf.predict(xtest)"
      ],
      "execution_count": 0,
      "outputs": []
    },
    {
      "cell_type": "markdown",
      "metadata": {
        "id": "lcUSuIWpdY1x",
        "colab_type": "text"
      },
      "source": [
        "**Report the results of 10-Kfold stratified cross-validation**\n"
      ]
    },
    {
      "cell_type": "code",
      "metadata": {
        "id": "kjWwelPSdV7p",
        "colab_type": "code",
        "outputId": "45343c67-5ca2-40c8-8cf3-d81b363786c9",
        "colab": {
          "base_uri": "https://localhost:8080/",
          "height": 105
        }
      },
      "source": [
        "scores = cross_val_score(clf, xtrain, ytrain, cv=10,scoring = make_scorer(acc))\n",
        "dummy_clf = DummyClassifier()\n",
        "dummy_clf.fit(xtrain,ytrain)\n",
        "print(\"ACC: %0.2f +/- %0.2f\" % (scores.mean(), scores.std()))\n",
        "print(\"Dummy ACC: %0.2f\"% (acc(ytest,dummy_clf.predict(xtest))))"
      ],
      "execution_count": 7,
      "outputs": [
        {
          "output_type": "stream",
          "text": [
            "ACC: 0.90 +/- 0.00\n",
            "Dummy ACC: 0.80\n"
          ],
          "name": "stdout"
        },
        {
          "output_type": "stream",
          "text": [
            "/usr/local/lib/python3.6/dist-packages/sklearn/dummy.py:132: FutureWarning: The default value of strategy will change from stratified to prior in 0.24.\n",
            "  \"stratified to prior in 0.24.\", FutureWarning)\n"
          ],
          "name": "stderr"
        }
      ]
    },
    {
      "cell_type": "markdown",
      "metadata": {
        "id": "D3fpnDB5dOgp",
        "colab_type": "text"
      },
      "source": [
        "**Get sample importances and a confusion matrix**"
      ]
    },
    {
      "cell_type": "markdown",
      "metadata": {
        "id": "xPgzy2vUdFJ1",
        "colab_type": "text"
      },
      "source": [
        "*Sample importances*"
      ]
    },
    {
      "cell_type": "code",
      "metadata": {
        "id": "Vps8EemLc94V",
        "colab_type": "code",
        "outputId": "5e30f215-952c-4af6-dda0-327b003bb323",
        "colab": {
          "base_uri": "https://localhost:8080/",
          "height": 1000
        }
      },
      "source": [
        "importances = clf.feature_importances_\n",
        "std = np.std([tree.feature_importances_ for tree in clf.estimators_],\n",
        "             axis=0)\n",
        "indices = np.argsort(importances)[::-1]\n",
        "\n",
        "#Print the feature ranking\n",
        "print(\"Feature ranking:\")\n",
        "features=list(df_copy.columns)\n",
        "for f in range(X_df.shape[1]):\n",
        "    print(\"%d. %s (%f)\" % (f + 1, features[indices[f]],  importances[indices[f]]))\n",
        "\n",
        "#Plot the feature importances of the forest\n",
        "fig = plt.figure()\n",
        "plt.title(\"Bank Classification\")\n",
        "plt.bar(range(X_df.shape[1]), importances[indices],\n",
        "       color=\"r\", yerr=std[indices], align=\"center\")\n",
        "plt.xticks(range(X_df.shape[1]), np.array(features)[indices],rotation=90)\n",
        "plt.xlim([-1, X_df.shape[1]])\n",
        "fig.set_size_inches(15,8)\n",
        "axes = plt.gca()\n",
        "axes.set_ylim([0,None])"
      ],
      "execution_count": 8,
      "outputs": [
        {
          "output_type": "stream",
          "text": [
            "Feature ranking:\n",
            "1. pdays (0.174747)\n",
            "2. nr.employed (0.143581)\n",
            "3. poutcome_success (0.134966)\n",
            "4. euribor3m (0.101790)\n",
            "5. emp.var.rate (0.090449)\n",
            "6. poutcome_nonexistent (0.053385)\n",
            "7. cons.conf.idx (0.034824)\n",
            "8. cons.price.idx (0.028960)\n",
            "9. month_may (0.028710)\n",
            "10. month_oct (0.027935)\n",
            "11. month_mar (0.026344)\n",
            "12. contact_cellular (0.022405)\n",
            "13. month_sep (0.022313)\n",
            "14. contact_telephone (0.021893)\n",
            "15. poutcome_failure (0.020913)\n",
            "16. job_student (0.008434)\n",
            "17. month_jul (0.005202)\n",
            "18. default_no (0.005083)\n",
            "19. month_jun (0.005066)\n",
            "20. job_blue-collar (0.004808)\n",
            "21. previous (0.004359)\n",
            "22. default_unknown (0.004198)\n",
            "23. age (0.004127)\n",
            "24. job_retired (0.004006)\n",
            "25. month_apr (0.003852)\n",
            "26. month_aug (0.003052)\n",
            "27. month_nov (0.002137)\n",
            "28. month_dec (0.001671)\n",
            "29. education_basic.9y (0.001184)\n",
            "30. day_of_week_mon (0.001172)\n",
            "31. campaign (0.000936)\n",
            "32. marital_single (0.000831)\n",
            "33. education_university.degree (0.000745)\n",
            "34. marital_married (0.000502)\n",
            "35. day_of_week_wed (0.000486)\n",
            "36. day_of_week_tue (0.000456)\n",
            "37. education_high.school (0.000420)\n",
            "38. job_services (0.000383)\n",
            "39. loan_no (0.000361)\n",
            "40. housing_no (0.000278)\n",
            "41. day_of_week_fri (0.000275)\n",
            "42. education_professional.course (0.000264)\n",
            "43. day_of_week_thu (0.000259)\n",
            "44. education_unknown (0.000259)\n",
            "45. job_self-employed (0.000238)\n",
            "46. housing_yes (0.000215)\n",
            "47. education_basic.4y (0.000170)\n",
            "48. job_housemaid (0.000154)\n",
            "49. loan_yes (0.000153)\n",
            "50. marital_divorced (0.000143)\n",
            "51. job_entrepreneur (0.000137)\n",
            "52. job_admin. (0.000134)\n",
            "53. housing_unknown (0.000099)\n",
            "54. marital_unknown (0.000090)\n",
            "55. loan_unknown (0.000086)\n",
            "56. job_management (0.000083)\n",
            "57. job_unemployed (0.000074)\n",
            "58. job_unknown (0.000069)\n",
            "59. education_basic.6y (0.000067)\n",
            "60. job_technician (0.000057)\n",
            "61. education_illiterate (0.000008)\n",
            "62. default_yes (0.000000)\n"
          ],
          "name": "stdout"
        },
        {
          "output_type": "execute_result",
          "data": {
            "text/plain": [
              "(0.0, 0.46527275403941737)"
            ]
          },
          "metadata": {
            "tags": []
          },
          "execution_count": 8
        },
        {
          "output_type": "display_data",
          "data": {
            "image/png": "[encoded data removed]",
            "text/plain": [
              "<Figure size 1080x576 with 1 Axes>"
            ]
          },
          "metadata": {
            "tags": []
          }
        }
      ]
    },
    {
      "cell_type": "markdown",
      "metadata": {
        "id": "JPgSaJTGdA39",
        "colab_type": "text"
      },
      "source": [
        "*Confusion matrix*"
      ]
    },
    {
      "cell_type": "code",
      "metadata": {
        "id": "LDuOhzPCcyy1",
        "colab_type": "code",
        "outputId": "94f88552-42d5-422c-d80a-3b6a746fe719",
        "colab": {
          "base_uri": "https://localhost:8080/",
          "height": 328
        }
      },
      "source": [
        "def plot_confusion_matrix(cm, classes,\n",
        "                          normalize=False,\n",
        "                          title='Confusion matrix',\n",
        "                          cmap=plt.cm.Blues):\n",
        "    \"\"\"\n",
        "    This function prints and plots the confusion matrix.\n",
        "    Normalization can be applied by setting `normalize=True`.\n",
        "    \"\"\"\n",
        "    if normalize:\n",
        "        cm = cm.astype('float') / cm.sum(axis=1)[:, np.newaxis]\n",
        "        print(\"Normalized confusion matrix\")\n",
        "    else:\n",
        "        print('Confusion matrix, without normalization')\n",
        "    plt.imshow(cm, interpolation='nearest', cmap=cmap)\n",
        "    plt.title(title)\n",
        "    plt.colorbar()\n",
        "    tick_marks = np.arange(len(classes))\n",
        "    plt.xticks(tick_marks, classes, rotation=45)\n",
        "    plt.yticks(tick_marks, classes)\n",
        "    thresh = cm.max() / 2.\n",
        "    for i, j in itertools.product(range(cm.shape[0]), range(cm.shape[1])):\n",
        "        t = \"(%.2f)\"%(cm[i, j])\n",
        "    plt.tight_layout()\n",
        "    plt.ylabel('True label')\n",
        "    plt.xlabel('Predicted label')\n",
        "\n",
        "#Compute confusion matrix\n",
        "y_pred = clf.predict(xtest)\n",
        "cnf_matrix = confusion_matrix(ytest, y_pred)\n",
        "np.set_printoptions(precision=2)\n",
        "\n",
        "#Plot non-normalized confusion matrix\n",
        "plt.figure()\n",
        "plot_confusion_matrix(cnf_matrix, classes=range(len(set(ytest))), normalize = True,\n",
        "                     title='Confusion matrix')"
      ],
      "execution_count": 9,
      "outputs": [
        {
          "output_type": "stream",
          "text": [
            "Normalized confusion matrix\n"
          ],
          "name": "stdout"
        },
        {
          "output_type": "display_data",
          "data": {
            "image/png": "[encoded data removed]",
            "text/plain": [
              "<Figure size 432x288 with 2 Axes>"
            ]
          },
          "metadata": {
            "tags": []
          }
        }
      ]
    }
  ]
}