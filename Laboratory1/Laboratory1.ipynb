{
  "nbformat": 4,
  "nbformat_minor": 0,
  "metadata": {
    "colab": {
      "name": "Lab1.ipynb",
      "provenance": [],
      "collapsed_sections": [],
      "authorship_tag": "ABX9TyPl/qiGbuIOEURI4bcgOEYV",
      "include_colab_link": true
    },
    "kernelspec": {
      "name": "python3",
      "display_name": "Python 3"
    }
  },
  "cells": [
    {
      "cell_type": "markdown",
      "metadata": {
        "id": "view-in-github",
        "colab_type": "text"
      },
      "source": [
        "<a href=\"https://colab.research.google.com/github/michelleaeh/CE888_Laboratory/blob/master/Laboratory1/Laboratory1.ipynb\" target=\"_parent\"><img src=\"https://colab.research.google.com/assets/colab-badge.svg\" alt=\"Open In Colab\"/></a>"
      ]
    },
    {
      "cell_type": "markdown",
      "metadata": {
        "id": "lkMOTfnD2Pkc",
        "colab_type": "text"
      },
      "source": [
        "# Data Science Laboratory 1\n",
        "## 1-15-2020\n",
        "\n"
      ]
    },
    {
      "cell_type": "markdown",
      "metadata": {
        "colab_type": "text",
        "id": "0p2vCE893lFx"
      },
      "source": [
        "### Questions to be done during the lab:\n",
        "**1. Create a (4 x 2) integer array and print it's attributes**\n",
        "\n"
      ]
    },
    {
      "cell_type": "code",
      "metadata": {
        "id": "yR89CXI92VHq",
        "colab_type": "code",
        "outputId": "cb1572e2-30d6-4bfd-afae-9d456197b2bb",
        "colab": {
          "base_uri": "https://localhost:8080/",
          "height": 85
        }
      },
      "source": [
        "import numpy as np\n",
        "a=np.array([[0, 1],\n",
        "            [2, 3], \n",
        "            [4, 5],\n",
        "            [6, 7]])\n",
        "print(a)\n"
      ],
      "execution_count": 0,
      "outputs": [
        {
          "output_type": "stream",
          "text": [
            "[[0 1]\n",
            " [2 3]\n",
            " [4 5]\n",
            " [6 7]]\n"
          ],
          "name": "stdout"
        }
      ]
    },
    {
      "cell_type": "markdown",
      "metadata": {
        "id": "7K_3f44c3zj5",
        "colab_type": "text"
      },
      "source": [
        "**2. Create an array of dimension (1,10) and sort it in ascending and descending order**\n",
        "\n"
      ]
    },
    {
      "cell_type": "code",
      "metadata": {
        "id": "woq2csFh49k_",
        "colab_type": "code",
        "outputId": "6389d6a9-d344-433a-e1e5-b106c9d6c1da",
        "colab": {
          "base_uri": "https://localhost:8080/",
          "height": 51
        }
      },
      "source": [
        "b=[2, 26, 98, 4, 19, 1, 6, 26, 71, 3, 14, 70, 20]\n",
        "\n",
        "# https://www.geeksforgeeks.org/python-list-sort/\n",
        "b.sort()\n",
        "print(\"The array in ascending order is\", b)\n",
        "\n",
        "# https://www.geeksforgeeks.org/python-list-sort/\n",
        "b.sort(reverse=True)\n",
        "print(\"The array in descending order is\", b)"
      ],
      "execution_count": 0,
      "outputs": [
        {
          "output_type": "stream",
          "text": [
            "The array in ascending order is: [1, 2, 3, 4, 6, 14, 19, 20, 26, 26, 70, 71, 98]\n",
            "The array in descending order is: [98, 71, 70, 26, 26, 20, 19, 14, 6, 4, 3, 2, 1]\n"
          ],
          "name": "stdout"
        }
      ]
    },
    {
      "cell_type": "markdown",
      "metadata": {
        "id": "R72_eWZP34jB",
        "colab_type": "text"
      },
      "source": [
        "**3. Convert an 1D array [1 2 3 4 5 6 7 8 9] to 2D array [[1 2 3], [4 5 6], [7 8 9]]**"
      ]
    },
    {
      "cell_type": "code",
      "metadata": {
        "id": "qlQqrp5c7xdm",
        "colab_type": "code",
        "outputId": "01c2704e-db6a-493c-a213-1aee3db8c524",
        "colab": {
          "base_uri": "https://localhost:8080/",
          "height": 68
        }
      },
      "source": [
        "# https://stackoverflow.com/questions/12575421/convert-a-1d-array-to-a-2d-array-in-numpy\n",
        "c=np.array([1, 2, 3, 4, 5, 6, 7, 8, 9])\n",
        "d=np.reshape(c,(-1,3))\n",
        "print(d)\n"
      ],
      "execution_count": 0,
      "outputs": [
        {
          "output_type": "stream",
          "text": [
            "[[1 2 3]\n",
            " [4 5 6]\n",
            " [7 8 9]]\n"
          ],
          "name": "stdout"
        }
      ]
    },
    {
      "cell_type": "markdown",
      "metadata": {
        "id": "YoL5HdeU375B",
        "colab_type": "text"
      },
      "source": [
        "**4. Stack two arrays of any size horizontally and vertically**"
      ]
    },
    {
      "cell_type": "code",
      "metadata": {
        "id": "xngEs38g8k1G",
        "colab_type": "code",
        "outputId": "f0003e16-2709-4f56-da4a-0ff292e14cf0",
        "colab": {
          "base_uri": "https://localhost:8080/",
          "height": 170
        }
      },
      "source": [
        "#https://docs.scipy.org/doc/numpy/reference/generated/numpy.stack.html\n",
        "f=np.array([4, 6, 9, 3, 3])\n",
        "g=np.array([7, 1, 5, 0, 1])\n",
        "print(\"Horizontal stack:\")\n",
        "print(np.stack((f,g)))\n",
        "print(\"Vertical stack:\")\n",
        "print(np.stack((f,g),axis=-1))"
      ],
      "execution_count": 0,
      "outputs": [
        {
          "output_type": "stream",
          "text": [
            "Horizontal stack:\n",
            "[[4 6 9 3 3]\n",
            " [7 1 5 0 1]]\n",
            "Vertical stack:\n",
            "[[4 7]\n",
            " [6 1]\n",
            " [9 5]\n",
            " [3 0]\n",
            " [3 1]]\n"
          ],
          "name": "stdout"
        }
      ]
    },
    {
      "cell_type": "markdown",
      "metadata": {
        "id": "8m4YtwvQ3-IB",
        "colab_type": "text"
      },
      "source": [
        "**5. Create two array of same size and find commom elements**\n",
        "\n"
      ]
    },
    {
      "cell_type": "code",
      "metadata": {
        "id": "RzBDcNPA9txb",
        "colab_type": "code",
        "outputId": "ea232515-6be9-4980-f973-c8a8c3581350",
        "colab": {
          "base_uri": "https://localhost:8080/",
          "height": 34
        }
      },
      "source": [
        "# https://www.codespeedy.com/find-the-common-elements-in-two-lists-in-python/ \n",
        "h=np.array([21, 18, 49, 48])\n",
        "j=np.array([49, 24, 17, 21])\n",
        "def common(h,j):\n",
        "  com=[value for value in h if value in j]\n",
        "  return com \n",
        "print(\"The common elements are\", common(h,j))"
      ],
      "execution_count": 0,
      "outputs": [
        {
          "output_type": "stream",
          "text": [
            "The common elements are  [21, 49]\n"
          ],
          "name": "stdout"
        }
      ]
    },
    {
      "cell_type": "markdown",
      "metadata": {
        "id": "zlXY6NSS4Auu",
        "colab_type": "text"
      },
      "source": [
        "**6. Create a 2D array of 5 by 5 and find the min and max values from each row and each column**\n",
        "\n"
      ]
    },
    {
      "cell_type": "code",
      "metadata": {
        "id": "EPifQR70-7Ky",
        "colab_type": "code",
        "outputId": "78b3738a-fac2-4a61-d7b4-5e472c5199b0",
        "colab": {
          "base_uri": "https://localhost:8080/",
          "height": 153
        }
      },
      "source": [
        "# https://docs.scipy.org/doc/numpy-1.15.1/reference/generated/numpy.random.rand.html\n",
        "# https://stackoverflow.com/questions/42610617/minimum-value-in-each-row-and-each-column-of-a-matrix-python\n",
        "k=np.random.rand(5,5)\n",
        "print(\"The array is\")\n",
        "print(k)\n",
        "\n",
        "print(\"The min values of each row are\", np.min(k,axis=1))\n",
        "print(\"The min values of each column are\", np.min(k,axis=0))"
      ],
      "execution_count": 0,
      "outputs": [
        {
          "output_type": "stream",
          "text": [
            "The array is\n",
            "[[0.01550141 0.4869076  0.62844371 0.91076333 0.59366142]\n",
            " [0.32508703 0.41852288 0.95088631 0.65987616 0.05746663]\n",
            " [0.44990152 0.8591997  0.32642421 0.8694952  0.54245034]\n",
            " [0.59700356 0.78611226 0.65969689 0.55584862 0.85777495]\n",
            " [0.88327985 0.97830856 0.51730117 0.3391217  0.62439135]]\n",
            "The min values of each row are  [0.01550141 0.05746663 0.32642421 0.55584862 0.3391217 ]\n",
            "The min values of each column are  [0.01550141 0.41852288 0.32642421 0.3391217  0.05746663]\n"
          ],
          "name": "stdout"
        }
      ]
    },
    {
      "cell_type": "markdown",
      "metadata": {
        "id": "qAnIx2c64Dde",
        "colab_type": "text"
      },
      "source": [
        "**7. Create an array of size 100 and compute the mean, median, standard deviation.**\n",
        "\n"
      ]
    },
    {
      "cell_type": "code",
      "metadata": {
        "id": "Jo6QBhkgBPmU",
        "colab_type": "code",
        "outputId": "85413180-6159-4e30-c48b-808215608b62",
        "colab": {
          "base_uri": "https://localhost:8080/",
          "height": 68
        }
      },
      "source": [
        "# https://docs.scipy.org/doc/numpy/reference/generated/numpy.std.html \n",
        "m=np.random.rand(100)\n",
        "print(\"The mean of the array is\", np.mean(m))\n",
        "print(\"The median of the array is\", np.median(m))\n",
        "print(\"The standard deviation of the array is\", np.std(m))"
      ],
      "execution_count": 0,
      "outputs": [
        {
          "output_type": "stream",
          "text": [
            "The mean of the array is 0.48920515648887347\n",
            "The median of the array is 0.4911300546165085\n",
            "The standard deviation of the array is 0.29885507253891364\n"
          ],
          "name": "stdout"
        }
      ]
    },
    {
      "cell_type": "markdown",
      "metadata": {
        "id": "0NF1GEm24F--",
        "colab_type": "text"
      },
      "source": [
        "**8. Normalize a 5x5 random matrix**\n",
        "\n"
      ]
    },
    {
      "cell_type": "code",
      "metadata": {
        "id": "Ai9_WKX2CdDJ",
        "colab_type": "code",
        "outputId": "e499ec4b-0244-4049-ab5c-6203e1ef32b1",
        "colab": {
          "base_uri": "https://localhost:8080/",
          "height": 221
        }
      },
      "source": [
        "# https://stackoverflow.com/questions/21030391/how-to-normalize-an-array-in-numpy\n",
        "n=np.random.rand(5,5)\n",
        "print(\"The original array is\")\n",
        "print(n)\n",
        "print(\"The normalized array is\")\n",
        "print(normalize(n,copy=False))\n"
      ],
      "execution_count": 0,
      "outputs": [
        {
          "output_type": "stream",
          "text": [
            "The original array is\n",
            "[[0.98896402 0.89259854 0.739849   0.69106374 0.68385116]\n",
            " [0.00712069 0.63228315 0.83723802 0.75466218 0.57567431]\n",
            " [0.56533413 0.3958879  0.34932043 0.20042267 0.87873611]\n",
            " [0.46401124 0.41484915 0.29772696 0.5304152  0.81638355]\n",
            " [0.17654546 0.50173775 0.02411946 0.64330417 0.3838415 ]]\n",
            "The normalized array is\n",
            "[[0.54711758 0.49380598 0.40930143 0.38231231 0.37832214]\n",
            " [0.00503293 0.44690002 0.59176285 0.53339795 0.40688868]\n",
            " [0.4759789  0.3333149  0.29410776 0.16874439 0.7398454 ]\n",
            " [0.38886005 0.34766025 0.24950715 0.44450924 0.68416221]\n",
            " [0.19209418 0.54592683 0.02624371 0.69996129 0.4176472 ]]\n"
          ],
          "name": "stdout"
        }
      ]
    },
    {
      "cell_type": "markdown",
      "metadata": {
        "id": "lgclNxlq4Iku",
        "colab_type": "text"
      },
      "source": [
        "**9. Consider an array of dimension (4,4,3), how to mulitply it by an array with dimensions (4,4)?**"
      ]
    },
    {
      "cell_type": "code",
      "metadata": {
        "id": "ta-cjMxsFIke",
        "colab_type": "code",
        "outputId": "d264b354-f3d8-4c92-926f-6bc323987385",
        "colab": {
          "base_uri": "https://localhost:8080/",
          "height": 85
        }
      },
      "source": [
        "#https://stackoverflow.com/questions/46930268/numpy-multiple-3d-array-with-a-2d-array\n",
        "p=np.random.rand(4,4,3)\n",
        "q=np.random.rand(4,4)\n",
        "\n",
        "q.dot(q.T)"
      ],
      "execution_count": 0,
      "outputs": [
        {
          "output_type": "execute_result",
          "data": {
            "text/plain": [
              "array([[1.96946361, 2.18507508, 1.3473702 , 0.790146  ],\n",
              "       [2.18507508, 2.55222413, 1.53334319, 0.91327894],\n",
              "       [1.3473702 , 1.53334319, 1.20267127, 0.69110085],\n",
              "       [0.790146  , 0.91327894, 0.69110085, 0.64265666]])"
            ]
          },
          "metadata": {
            "tags": []
          },
          "execution_count": 62
        }
      ]
    }
  ]
}