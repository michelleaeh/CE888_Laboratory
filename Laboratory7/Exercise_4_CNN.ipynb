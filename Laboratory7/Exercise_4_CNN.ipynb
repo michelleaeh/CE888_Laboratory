{
  "nbformat": 4,
  "nbformat_minor": 0,
  "metadata": {
    "colab": {
      "name": "Exercise_4_CNN.ipynb",
      "provenance": [],
      "collapsed_sections": [],
      "include_colab_link": true
    },
    "kernelspec": {
      "name": "python3",
      "display_name": "Python 3"
    },
    "accelerator": "GPU"
  },
  "cells": [
    {
      "cell_type": "markdown",
      "metadata": {
        "id": "view-in-github",
        "colab_type": "text"
      },
      "source": [
        "<a href=\"https://colab.research.google.com/github/michelleaeh/CE888_Laboratory/blob/master/Laboratory7/Exercise_4_CNN.ipynb\" target=\"_parent\"><img src=\"https://colab.research.google.com/assets/colab-badge.svg\" alt=\"Open In Colab\"/></a>"
      ]
    },
    {
      "cell_type": "code",
      "metadata": {
        "id": "YmXSOc0tZIGA",
        "colab_type": "code",
        "outputId": "13250bd5-0097-4d04-8178-e56e4a84f43a",
        "colab": {
          "base_uri": "https://localhost:8080/",
          "height": 34
        }
      },
      "source": [
        "import os\n",
        "os.environ['KAGGLE_USERNAME'] = \"michelleespinosa\" # username from the json file\n",
        "os.environ['KAGGLE_KEY'] = \"0f7da6a6d10770e685bf1124561d0341\" # key from the json file\n",
        "!kaggle datasets download -d paultimothymooney/chest-xray-pneumonia # api copied from kaggle"
      ],
      "execution_count": 1,
      "outputs": [
        {
          "output_type": "stream",
          "text": [
            "chest-xray-pneumonia.zip: Skipping, found more recently modified local copy (use --force to force download)\n"
          ],
          "name": "stdout"
        }
      ]
    },
    {
      "cell_type": "code",
      "metadata": {
        "id": "PiwIL8d1n7eS",
        "colab_type": "code",
        "outputId": "a12c8752-e0be-49ed-de01-6f8f4f5cd4c2",
        "colab": {
          "base_uri": "https://localhost:8080/",
          "height": 34
        }
      },
      "source": [
        "# Upload data\n",
        "from zipfile import ZipFile\n",
        "\n",
        "file_name = \"/content/chest-xray-pneumonia.zip\"\n",
        "\n",
        "with ZipFile(file_name, 'r') as zip:\n",
        "  zip.extractall()\n",
        "  print('done')"
      ],
      "execution_count": 2,
      "outputs": [
        {
          "output_type": "stream",
          "text": [
            "done\n"
          ],
          "name": "stdout"
        }
      ]
    },
    {
      "cell_type": "code",
      "metadata": {
        "id": "sa2Bj5i7pPKV",
        "colab_type": "code",
        "colab": {}
      },
      "source": [
        "train_dir='/content/chest_xray/train'\n",
        "validation_dir='/content/chest_xray/val'\n",
        "test_dir='/content/chest_xray/test'\n",
        "train_N_dir='/content/chest_xray/train/NORMAL'\n",
        "train_P_dir='/content/chest_xray/train/PNEUMONIA'\n",
        "val_N_dir='/content/chest_xray/val/NORMAL'\n",
        "val_P_dir='/content/chest_xray/val/PNEUMONIA'\n",
        "test_N_dir='/content/chest_xray/test/NORMAL'\n",
        "test_P_dir='/content/chest_xray/test/PNEUMONIA'"
      ],
      "execution_count": 0,
      "outputs": []
    },
    {
      "cell_type": "code",
      "metadata": {
        "id": "o9yTA21_r-ma",
        "colab_type": "code",
        "outputId": "7360da8a-5bc1-4f0e-f373-1b744d8c199f",
        "colab": {
          "base_uri": "https://localhost:8080/",
          "height": 1000
        }
      },
      "source": [
        "from keras import layers\n",
        "from keras import models\n",
        "!pip install tensorflow==1.14.0\n",
        "\n",
        "model = models.Sequential()\n",
        "model.add(layers.Conv2D(32, (3, 3), activation='relu', input_shape=(150, 150, 3)))\n",
        "model.add(layers.MaxPooling2D((2, 2)))\n",
        "model.add(layers.Conv2D(64, (3, 3), activation='relu'))\n",
        "model.add(layers.MaxPooling2D((2, 2)))\n",
        "model.add(layers.Conv2D(128, (3, 3), activation='relu'))\n",
        "model.add(layers.MaxPooling2D((2, 2)))\n",
        "model.add(layers.Conv2D(128, (3, 3), activation='relu'))\n",
        "model.add(layers.MaxPooling2D((2, 2)))\n",
        "model.add(layers.Flatten())\n",
        "model.add(layers.Dense(512, activation='relu'))\n",
        "model.add(layers.Dense(1, activation='sigmoid'))\n",
        "model.summary()"
      ],
      "execution_count": 4,
      "outputs": [
        {
          "output_type": "stream",
          "text": [
            "Using TensorFlow backend.\n",
            "/usr/local/lib/python3.6/dist-packages/tensorflow/python/framework/dtypes.py:516: FutureWarning: Passing (type, 1) or '1type' as a synonym of type is deprecated; in a future version of numpy, it will be understood as (type, (1,)) / '(1,)type'.\n",
            "  _np_qint8 = np.dtype([(\"qint8\", np.int8, 1)])\n",
            "/usr/local/lib/python3.6/dist-packages/tensorflow/python/framework/dtypes.py:517: FutureWarning: Passing (type, 1) or '1type' as a synonym of type is deprecated; in a future version of numpy, it will be understood as (type, (1,)) / '(1,)type'.\n",
            "  _np_quint8 = np.dtype([(\"quint8\", np.uint8, 1)])\n",
            "/usr/local/lib/python3.6/dist-packages/tensorflow/python/framework/dtypes.py:518: FutureWarning: Passing (type, 1) or '1type' as a synonym of type is deprecated; in a future version of numpy, it will be understood as (type, (1,)) / '(1,)type'.\n",
            "  _np_qint16 = np.dtype([(\"qint16\", np.int16, 1)])\n",
            "/usr/local/lib/python3.6/dist-packages/tensorflow/python/framework/dtypes.py:519: FutureWarning: Passing (type, 1) or '1type' as a synonym of type is deprecated; in a future version of numpy, it will be understood as (type, (1,)) / '(1,)type'.\n",
            "  _np_quint16 = np.dtype([(\"quint16\", np.uint16, 1)])\n",
            "/usr/local/lib/python3.6/dist-packages/tensorflow/python/framework/dtypes.py:520: FutureWarning: Passing (type, 1) or '1type' as a synonym of type is deprecated; in a future version of numpy, it will be understood as (type, (1,)) / '(1,)type'.\n",
            "  _np_qint32 = np.dtype([(\"qint32\", np.int32, 1)])\n",
            "/usr/local/lib/python3.6/dist-packages/tensorflow/python/framework/dtypes.py:525: FutureWarning: Passing (type, 1) or '1type' as a synonym of type is deprecated; in a future version of numpy, it will be understood as (type, (1,)) / '(1,)type'.\n",
            "  np_resource = np.dtype([(\"resource\", np.ubyte, 1)])\n",
            "/usr/local/lib/python3.6/dist-packages/tensorboard/compat/tensorflow_stub/dtypes.py:541: FutureWarning: Passing (type, 1) or '1type' as a synonym of type is deprecated; in a future version of numpy, it will be understood as (type, (1,)) / '(1,)type'.\n",
            "  _np_qint8 = np.dtype([(\"qint8\", np.int8, 1)])\n",
            "/usr/local/lib/python3.6/dist-packages/tensorboard/compat/tensorflow_stub/dtypes.py:542: FutureWarning: Passing (type, 1) or '1type' as a synonym of type is deprecated; in a future version of numpy, it will be understood as (type, (1,)) / '(1,)type'.\n",
            "  _np_quint8 = np.dtype([(\"quint8\", np.uint8, 1)])\n",
            "/usr/local/lib/python3.6/dist-packages/tensorboard/compat/tensorflow_stub/dtypes.py:543: FutureWarning: Passing (type, 1) or '1type' as a synonym of type is deprecated; in a future version of numpy, it will be understood as (type, (1,)) / '(1,)type'.\n",
            "  _np_qint16 = np.dtype([(\"qint16\", np.int16, 1)])\n",
            "/usr/local/lib/python3.6/dist-packages/tensorboard/compat/tensorflow_stub/dtypes.py:544: FutureWarning: Passing (type, 1) or '1type' as a synonym of type is deprecated; in a future version of numpy, it will be understood as (type, (1,)) / '(1,)type'.\n",
            "  _np_quint16 = np.dtype([(\"quint16\", np.uint16, 1)])\n",
            "/usr/local/lib/python3.6/dist-packages/tensorboard/compat/tensorflow_stub/dtypes.py:545: FutureWarning: Passing (type, 1) or '1type' as a synonym of type is deprecated; in a future version of numpy, it will be understood as (type, (1,)) / '(1,)type'.\n",
            "  _np_qint32 = np.dtype([(\"qint32\", np.int32, 1)])\n",
            "/usr/local/lib/python3.6/dist-packages/tensorboard/compat/tensorflow_stub/dtypes.py:550: FutureWarning: Passing (type, 1) or '1type' as a synonym of type is deprecated; in a future version of numpy, it will be understood as (type, (1,)) / '(1,)type'.\n",
            "  np_resource = np.dtype([(\"resource\", np.ubyte, 1)])\n"
          ],
          "name": "stderr"
        },
        {
          "output_type": "display_data",
          "data": {
            "text/html": [
              "<p style=\"color: red;\">\n",
              "The default version of TensorFlow in Colab will switch to TensorFlow 2.x on the 27th of March, 2020.<br>\n",
              "We recommend you <a href=\"https://www.tensorflow.org/guide/migrate\" target=\"_blank\">upgrade</a> now\n",
              "or ensure your notebook will continue to use TensorFlow 1.x via the <code>%tensorflow_version 1.x</code> magic:\n",
              "<a href=\"https://colab.research.google.com/notebooks/tensorflow_version.ipynb\" target=\"_blank\">more info</a>.</p>\n"
            ],
            "text/plain": [
              "<IPython.core.display.HTML object>"
            ]
          },
          "metadata": {
            "tags": []
          }
        },
        {
          "output_type": "stream",
          "text": [
            "Requirement already satisfied: tensorflow==1.14.0 in /usr/local/lib/python3.6/dist-packages (1.14.0)\n",
            "Requirement already satisfied: absl-py>=0.7.0 in /usr/local/lib/python3.6/dist-packages (from tensorflow==1.14.0) (0.9.0)\n",
            "Requirement already satisfied: grpcio>=1.8.6 in /usr/local/lib/python3.6/dist-packages (from tensorflow==1.14.0) (1.27.2)\n",
            "Requirement already satisfied: keras-preprocessing>=1.0.5 in /usr/local/lib/python3.6/dist-packages (from tensorflow==1.14.0) (1.1.0)\n",
            "Requirement already satisfied: six>=1.10.0 in /usr/local/lib/python3.6/dist-packages (from tensorflow==1.14.0) (1.12.0)\n",
            "Requirement already satisfied: protobuf>=3.6.1 in /usr/local/lib/python3.6/dist-packages (from tensorflow==1.14.0) (3.10.0)\n",
            "Requirement already satisfied: termcolor>=1.1.0 in /usr/local/lib/python3.6/dist-packages (from tensorflow==1.14.0) (1.1.0)\n",
            "Requirement already satisfied: wrapt>=1.11.1 in /usr/local/lib/python3.6/dist-packages (from tensorflow==1.14.0) (1.12.1)\n",
            "Requirement already satisfied: google-pasta>=0.1.6 in /usr/local/lib/python3.6/dist-packages (from tensorflow==1.14.0) (0.2.0)\n",
            "Requirement already satisfied: astor>=0.6.0 in /usr/local/lib/python3.6/dist-packages (from tensorflow==1.14.0) (0.8.1)\n",
            "Requirement already satisfied: keras-applications>=1.0.6 in /usr/local/lib/python3.6/dist-packages (from tensorflow==1.14.0) (1.0.8)\n",
            "Requirement already satisfied: tensorboard<1.15.0,>=1.14.0 in /usr/local/lib/python3.6/dist-packages (from tensorflow==1.14.0) (1.14.0)\n",
            "Requirement already satisfied: tensorflow-estimator<1.15.0rc0,>=1.14.0rc0 in /usr/local/lib/python3.6/dist-packages (from tensorflow==1.14.0) (1.14.0)\n",
            "Requirement already satisfied: numpy<2.0,>=1.14.5 in /usr/local/lib/python3.6/dist-packages (from tensorflow==1.14.0) (1.18.2)\n",
            "Requirement already satisfied: wheel>=0.26 in /usr/local/lib/python3.6/dist-packages (from tensorflow==1.14.0) (0.34.2)\n",
            "Requirement already satisfied: gast>=0.2.0 in /usr/local/lib/python3.6/dist-packages (from tensorflow==1.14.0) (0.3.3)\n",
            "Requirement already satisfied: setuptools in /usr/local/lib/python3.6/dist-packages (from protobuf>=3.6.1->tensorflow==1.14.0) (46.0.0)\n",
            "Requirement already satisfied: h5py in /usr/local/lib/python3.6/dist-packages (from keras-applications>=1.0.6->tensorflow==1.14.0) (2.10.0)\n",
            "Requirement already satisfied: werkzeug>=0.11.15 in /usr/local/lib/python3.6/dist-packages (from tensorboard<1.15.0,>=1.14.0->tensorflow==1.14.0) (1.0.0)\n",
            "Requirement already satisfied: markdown>=2.6.8 in /usr/local/lib/python3.6/dist-packages (from tensorboard<1.15.0,>=1.14.0->tensorflow==1.14.0) (3.2.1)\n",
            "WARNING:tensorflow:From /usr/local/lib/python3.6/dist-packages/keras/backend/tensorflow_backend.py:66: The name tf.get_default_graph is deprecated. Please use tf.compat.v1.get_default_graph instead.\n",
            "\n",
            "WARNING:tensorflow:From /usr/local/lib/python3.6/dist-packages/keras/backend/tensorflow_backend.py:541: The name tf.placeholder is deprecated. Please use tf.compat.v1.placeholder instead.\n",
            "\n",
            "WARNING:tensorflow:From /usr/local/lib/python3.6/dist-packages/keras/backend/tensorflow_backend.py:4432: The name tf.random_uniform is deprecated. Please use tf.random.uniform instead.\n",
            "\n",
            "WARNING:tensorflow:From /usr/local/lib/python3.6/dist-packages/keras/backend/tensorflow_backend.py:4267: The name tf.nn.max_pool is deprecated. Please use tf.nn.max_pool2d instead.\n",
            "\n",
            "Model: \"sequential_1\"\n",
            "_________________________________________________________________\n",
            "Layer (type)                 Output Shape              Param #   \n",
            "=================================================================\n",
            "conv2d_1 (Conv2D)            (None, 148, 148, 32)      896       \n",
            "_________________________________________________________________\n",
            "max_pooling2d_1 (MaxPooling2 (None, 74, 74, 32)        0         \n",
            "_________________________________________________________________\n",
            "conv2d_2 (Conv2D)            (None, 72, 72, 64)        18496     \n",
            "_________________________________________________________________\n",
            "max_pooling2d_2 (MaxPooling2 (None, 36, 36, 64)        0         \n",
            "_________________________________________________________________\n",
            "conv2d_3 (Conv2D)            (None, 34, 34, 128)       73856     \n",
            "_________________________________________________________________\n",
            "max_pooling2d_3 (MaxPooling2 (None, 17, 17, 128)       0         \n",
            "_________________________________________________________________\n",
            "conv2d_4 (Conv2D)            (None, 15, 15, 128)       147584    \n",
            "_________________________________________________________________\n",
            "max_pooling2d_4 (MaxPooling2 (None, 7, 7, 128)         0         \n",
            "_________________________________________________________________\n",
            "flatten_1 (Flatten)          (None, 6272)              0         \n",
            "_________________________________________________________________\n",
            "dense_1 (Dense)              (None, 512)               3211776   \n",
            "_________________________________________________________________\n",
            "dense_2 (Dense)              (None, 1)                 513       \n",
            "=================================================================\n",
            "Total params: 3,453,121\n",
            "Trainable params: 3,453,121\n",
            "Non-trainable params: 0\n",
            "_________________________________________________________________\n"
          ],
          "name": "stdout"
        }
      ]
    },
    {
      "cell_type": "code",
      "metadata": {
        "id": "2mG8wekxsBVS",
        "colab_type": "code",
        "colab": {
          "base_uri": "https://localhost:8080/",
          "height": 156
        },
        "outputId": "1126d42c-8e3c-45ca-cce0-802356646cef"
      },
      "source": [
        "from keras import optimizers\n",
        "model.compile(loss='binary_crossentropy', \n",
        "              optimizer=optimizers.RMSprop(lr=1e-4),\n",
        "              metrics=['acc'])"
      ],
      "execution_count": 5,
      "outputs": [
        {
          "output_type": "stream",
          "text": [
            "WARNING:tensorflow:From /usr/local/lib/python3.6/dist-packages/keras/optimizers.py:793: The name tf.train.Optimizer is deprecated. Please use tf.compat.v1.train.Optimizer instead.\n",
            "\n",
            "WARNING:tensorflow:From /usr/local/lib/python3.6/dist-packages/keras/backend/tensorflow_backend.py:3657: The name tf.log is deprecated. Please use tf.math.log instead.\n",
            "\n",
            "WARNING:tensorflow:From /usr/local/lib/python3.6/dist-packages/tensorflow/python/ops/nn_impl.py:180: add_dispatch_support.<locals>.wrapper (from tensorflow.python.ops.array_ops) is deprecated and will be removed in a future version.\n",
            "Instructions for updating:\n",
            "Use tf.where in 2.0, which has the same broadcast rule as np.where\n"
          ],
          "name": "stdout"
        }
      ]
    },
    {
      "cell_type": "markdown",
      "metadata": {
        "id": "7zS4Klm8qWp6",
        "colab_type": "text"
      },
      "source": [
        "## Using ImageDataGenerator to read images from directories\n",
        "As you know by now, data should be formatted into appropriately preprocessed floatingpoint tensors before being fed into the network. Currently, the data sits on a drive as JPEG files, so the steps for getting it into the network are roughly as follows:\n",
        "\n",
        "* Read the picture files.\n",
        "* Decode the JPEG content to RGB grids of pixels.\n",
        "* Convert these into floating-point tensors.\n",
        "* Rescale the pixel values (between 0 and 255) to the [0, 1] interval (as you know, neural networks prefer to deal with small input values).\n",
        "\n",
        "It may seem a bit daunting, but fortunately Keras has utilities to take care of these steps automatically. Keras has a module with image-processing helper tools, located at keras.preprocessing.image. In particular, it contains the class ImageDataGenerator,which lets you quickly set up Python generators that can automatically turn image files on disk into batches of preprocessed tensors."
      ]
    },
    {
      "cell_type": "code",
      "metadata": {
        "id": "XJ7XU7t9sEh6",
        "colab_type": "code",
        "colab": {
          "base_uri": "https://localhost:8080/",
          "height": 51
        },
        "outputId": "a766e1d3-b9e7-4874-e195-35400227ec7e"
      },
      "source": [
        "from keras.preprocessing.image import ImageDataGenerator\n",
        "\n",
        "train_datagen = ImageDataGenerator(rescale=1./255)\n",
        "test_datagen = ImageDataGenerator(rescale=1./255)\n",
        "\n",
        "train_generator = train_datagen.flow_from_directory(train_dir,\n",
        "                                                    target_size=(150, 150), \n",
        "                                                    batch_size=20,\n",
        "                                                    class_mode='binary')\n",
        "\n",
        "validation_generator = test_datagen.flow_from_directory(validation_dir,\n",
        "                                                        target_size=(150, 150),\n",
        "                                                        batch_size=20,\n",
        "                                                        class_mode='binary')"
      ],
      "execution_count": 6,
      "outputs": [
        {
          "output_type": "stream",
          "text": [
            "Found 5216 images belonging to 2 classes.\n",
            "Found 16 images belonging to 2 classes.\n"
          ],
          "name": "stdout"
        }
      ]
    },
    {
      "cell_type": "markdown",
      "metadata": {
        "id": "SEgLywySqm4u",
        "colab_type": "text"
      },
      "source": [
        "Let’s fit the model to the data using the generator. You do so using the fit_generator method, the equivalent of fit for data generators like this one. It expects as its first argument a Python generator that will yield batches of inputs and targets indefinitely,like this one does. Because the data is being generated endlessly, the Keras model needs to know how many samples to draw from the generator before declaring anepoch over. This is the role of the `steps_per_epoch` argument: after having drawn `steps_per_epoch` batches from the generator—that is, after having run for `steps_per_epoch` gradient descent steps—the fitting process will go to the next epoch. In this case, batches are 20 samples, so it will take 100 batches until you see your target of 2,000 samples.\n",
        "\n",
        "When using fit_generator, you can pass a validation_data argument, much as with the fit method. It’s important to note that this argument is allowed to be a data generator, but it could also be a tuple of Numpy arrays. If you pass a generator as validation_data, then this generator is expected to yield batches of validation data endlessly; thus you should also specify the validation_steps argument, which tells the process how many batches to draw from the validation generator for evaluation."
      ]
    },
    {
      "cell_type": "code",
      "metadata": {
        "id": "yMyfPphJsJG6",
        "colab_type": "code",
        "colab": {
          "base_uri": "https://localhost:8080/",
          "height": 1000
        },
        "outputId": "caa9421f-142b-40b4-a723-638d50a2287e"
      },
      "source": [
        "history = model.fit_generator(train_generator,\n",
        "                              steps_per_epoch=100,\n",
        "                              epochs=30,\n",
        "                              validation_data=validation_generator,\n",
        "                              validation_steps=10)"
      ],
      "execution_count": 7,
      "outputs": [
        {
          "output_type": "stream",
          "text": [
            "WARNING:tensorflow:From /usr/local/lib/python3.6/dist-packages/keras/backend/tensorflow_backend.py:1033: The name tf.assign_add is deprecated. Please use tf.compat.v1.assign_add instead.\n",
            "\n",
            "Epoch 1/30\n",
            "100/100 [==============================] - 88s 877ms/step - loss: 0.5072 - acc: 0.7631 - val_loss: 0.9410 - val_acc: 0.6250\n",
            "Epoch 2/30\n",
            "100/100 [==============================] - 87s 874ms/step - loss: 0.3139 - acc: 0.8660 - val_loss: 0.6817 - val_acc: 0.6875\n",
            "Epoch 3/30\n",
            "100/100 [==============================] - 90s 897ms/step - loss: 0.2259 - acc: 0.9105 - val_loss: 1.3629 - val_acc: 0.5625\n",
            "Epoch 4/30\n",
            "100/100 [==============================] - 89s 894ms/step - loss: 0.1536 - acc: 0.9390 - val_loss: 0.9678 - val_acc: 0.6250\n",
            "Epoch 5/30\n",
            "100/100 [==============================] - 90s 898ms/step - loss: 0.1613 - acc: 0.9355 - val_loss: 0.5043 - val_acc: 0.8750\n",
            "Epoch 6/30\n",
            "100/100 [==============================] - 90s 895ms/step - loss: 0.1321 - acc: 0.9544 - val_loss: 0.5262 - val_acc: 0.7500\n",
            "Epoch 7/30\n",
            "100/100 [==============================] - 90s 901ms/step - loss: 0.1292 - acc: 0.9495 - val_loss: 0.9714 - val_acc: 0.6250\n",
            "Epoch 8/30\n",
            "100/100 [==============================] - 90s 897ms/step - loss: 0.0978 - acc: 0.9610 - val_loss: 0.6504 - val_acc: 0.7500\n",
            "Epoch 9/30\n",
            "100/100 [==============================] - 90s 903ms/step - loss: 0.1046 - acc: 0.9595 - val_loss: 0.5240 - val_acc: 0.8125\n",
            "Epoch 10/30\n",
            "100/100 [==============================] - 90s 897ms/step - loss: 0.0944 - acc: 0.9635 - val_loss: 0.6562 - val_acc: 0.7500\n",
            "Epoch 11/30\n",
            "100/100 [==============================] - 88s 884ms/step - loss: 0.0862 - acc: 0.9680 - val_loss: 0.3273 - val_acc: 0.8125\n",
            "Epoch 12/30\n",
            "100/100 [==============================] - 87s 866ms/step - loss: 0.0785 - acc: 0.9680 - val_loss: 0.5579 - val_acc: 0.8125\n",
            "Epoch 13/30\n",
            "100/100 [==============================] - 88s 883ms/step - loss: 0.0746 - acc: 0.9745 - val_loss: 1.0239 - val_acc: 0.6875\n",
            "Epoch 14/30\n",
            "100/100 [==============================] - 89s 893ms/step - loss: 0.0712 - acc: 0.9770 - val_loss: 1.0797 - val_acc: 0.6875\n",
            "Epoch 15/30\n",
            "100/100 [==============================] - 89s 887ms/step - loss: 0.0706 - acc: 0.9690 - val_loss: 0.4299 - val_acc: 0.8125\n",
            "Epoch 16/30\n",
            "100/100 [==============================] - 90s 898ms/step - loss: 0.0767 - acc: 0.9690 - val_loss: 0.4925 - val_acc: 0.8125\n",
            "Epoch 17/30\n",
            "100/100 [==============================] - 89s 887ms/step - loss: 0.0675 - acc: 0.9750 - val_loss: 0.6186 - val_acc: 0.8125\n",
            "Epoch 18/30\n",
            "100/100 [==============================] - 89s 887ms/step - loss: 0.0601 - acc: 0.9800 - val_loss: 0.1671 - val_acc: 0.9375\n",
            "Epoch 19/30\n",
            "100/100 [==============================] - 90s 898ms/step - loss: 0.0596 - acc: 0.9810 - val_loss: 0.3416 - val_acc: 0.8750\n",
            "Epoch 20/30\n",
            "100/100 [==============================] - 93s 928ms/step - loss: 0.0637 - acc: 0.9745 - val_loss: 0.4460 - val_acc: 0.8125\n",
            "Epoch 21/30\n",
            "100/100 [==============================] - 91s 910ms/step - loss: 0.0610 - acc: 0.9809 - val_loss: 0.5623 - val_acc: 0.7500\n",
            "Epoch 22/30\n",
            "100/100 [==============================] - 92s 916ms/step - loss: 0.0555 - acc: 0.9800 - val_loss: 0.2069 - val_acc: 0.8750\n",
            "Epoch 23/30\n",
            "100/100 [==============================] - 92s 916ms/step - loss: 0.0567 - acc: 0.9850 - val_loss: 1.4741 - val_acc: 0.5625\n",
            "Epoch 24/30\n",
            "100/100 [==============================] - 89s 893ms/step - loss: 0.0487 - acc: 0.9830 - val_loss: 0.5831 - val_acc: 0.8125\n",
            "Epoch 25/30\n",
            "100/100 [==============================] - 90s 896ms/step - loss: 0.0527 - acc: 0.9824 - val_loss: 0.2579 - val_acc: 0.8125\n",
            "Epoch 26/30\n",
            "100/100 [==============================] - 89s 888ms/step - loss: 0.0516 - acc: 0.9810 - val_loss: 0.1494 - val_acc: 0.8750\n",
            "Epoch 27/30\n",
            "100/100 [==============================] - 89s 886ms/step - loss: 0.0362 - acc: 0.9865 - val_loss: 0.8438 - val_acc: 0.7500\n",
            "Epoch 28/30\n",
            "100/100 [==============================] - 85s 854ms/step - loss: 0.0459 - acc: 0.9850 - val_loss: 0.5739 - val_acc: 0.8125\n",
            "Epoch 29/30\n",
            "100/100 [==============================] - 84s 840ms/step - loss: 0.0459 - acc: 0.9849 - val_loss: 0.7616 - val_acc: 0.8125\n",
            "Epoch 30/30\n",
            "100/100 [==============================] - 86s 863ms/step - loss: 0.0341 - acc: 0.9895 - val_loss: 1.4017 - val_acc: 0.6875\n"
          ],
          "name": "stdout"
        }
      ]
    },
    {
      "cell_type": "code",
      "metadata": {
        "id": "MZaZ2HWZsNUi",
        "colab_type": "code",
        "colab": {
          "base_uri": "https://localhost:8080/",
          "height": 545
        },
        "outputId": "f2db0f13-a418-4d27-c633-22508d3d506e"
      },
      "source": [
        "model.save('x_ray.h5')\n",
        "\n",
        "import matplotlib.pyplot as plt\n",
        "\n",
        "acc = history.history['acc']\n",
        "val_acc = history.history['val_acc']\n",
        "loss = history.history['loss']\n",
        "val_loss = history.history['val_loss']\n",
        "\n",
        "epochs = range(1, len(acc) + 1)\n",
        "\n",
        "plt.plot(epochs, acc, 'bo', label='Training acc')\n",
        "plt.plot(epochs, val_acc, 'b', label='Validation acc')\n",
        "plt.title('Training and validation accuracy')\n",
        "plt.legend()\n",
        "\n",
        "plt.figure()\n",
        "\n",
        "plt.plot(epochs, loss, 'bo', label='Training loss')\n",
        "plt.plot(epochs, val_loss, 'b', label='Validation loss')\n",
        "plt.title('Training and validation loss')\n",
        "plt.legend()\n",
        "\n",
        "plt.show()"
      ],
      "execution_count": 11,
      "outputs": [
        {
          "output_type": "display_data",
          "data": {
            "image/png": "[encoded data removed]",
            "text/plain": [
              "<Figure size 432x288 with 1 Axes>"
            ]
          },
          "metadata": {
            "tags": []
          }
        },
        {
          "output_type": "display_data",
          "data": {
            "image/png": "[encoded data removed]",
            "text/plain": [
              "<Figure size 432x288 with 1 Axes>"
            ]
          },
          "metadata": {
            "tags": []
          }
        }
      ]
    },
    {
      "cell_type": "markdown",
      "metadata": {
        "id": "XKZmXmBcq_8-",
        "colab_type": "text"
      },
      "source": [
        "## Convolutional Networks with Dropout\n",
        "\n",
        "![alt text](https://camo.githubusercontent.com/ee6fa1073247cd2c3d241300caf110d7a7541bc5/68747470733a2f2f63646e2d696d616765732d312e6d656469756d2e636f6d2f6d61782f3830302f312a4972644a355067684439596f4f7956415137334d4a772e676966)\n",
        "\n",
        "Ref: https://github.com/mneha4/Training-Neural-Nets---Guidelines"
      ]
    },
    {
      "cell_type": "code",
      "metadata": {
        "id": "wu3cqeYQrDeN",
        "colab_type": "code",
        "colab": {}
      },
      "source": [
        "model = models.Sequential()\n",
        "model.add(layers.Conv2D(32, (3, 3), activation='relu',\n",
        "input_shape=(150, 150, 3)))\n",
        "model.add(layers.MaxPooling2D((2, 2)))\n",
        "model.add(layers.Conv2D(64, (3, 3), activation='relu'))\n",
        "model.add(layers.MaxPooling2D((2, 2)))\n",
        "model.add(layers.Conv2D(128, (3, 3), activation='relu'))\n",
        "model.add(layers.MaxPooling2D((2, 2)))\n",
        "model.add(layers.Conv2D(128, (3, 3), activation='relu'))\n",
        "model.add(layers.MaxPooling2D((2, 2)))\n",
        "model.add(layers.Flatten())\n",
        "model.add(layers.Dropout(0.5))\n",
        "model.add(layers.Dense(512, activation='relu'))\n",
        "model.add(layers.Dense(1, activation='sigmoid'))\n",
        "\n",
        "model.compile(loss='binary_crossentropy',\n",
        "              optimizer=optimizers.RMSprop(lr=1e-4),\n",
        "              metrics=['acc'])"
      ],
      "execution_count": 0,
      "outputs": []
    },
    {
      "cell_type": "code",
      "metadata": {
        "id": "QSeLpvY0rH7F",
        "colab_type": "code",
        "colab": {
          "base_uri": "https://localhost:8080/",
          "height": 731
        },
        "outputId": "e5582485-e286-4ce6-9ce2-183b8af40b26"
      },
      "source": [
        "\n",
        "train_datagen = ImageDataGenerator(rescale=1./255,\n",
        "                                   rotation_range=40,\n",
        "                                   width_shift_range=0.2,\n",
        "                                   height_shift_range=0.2,\n",
        "                                   shear_range=0.2,\n",
        "                                   zoom_range=0.2,\n",
        "                                   horizontal_flip=True,)\n",
        "\n",
        "test_datagen = ImageDataGenerator(rescale=1./255)\n",
        "\n",
        "train_generator = train_datagen.flow_from_directory(train_dir,\n",
        "                                                    target_size=(150, 150),\n",
        "                                                    batch_size=32,\n",
        "                                                    class_mode='binary')\n",
        "\n",
        "validation_generator = test_datagen.flow_from_directory(validation_dir,\n",
        "                                                        target_size=(150, 150),\n",
        "                                                        batch_size=32,\n",
        "                                                        class_mode='binary')\n",
        "\n",
        "history = model.fit_generator(train_generator,\n",
        "                              steps_per_epoch=100,\n",
        "                              epochs=20,\n",
        "                              validation_data=validation_generator,\n",
        "                              validation_steps=50)"
      ],
      "execution_count": 10,
      "outputs": [
        {
          "output_type": "stream",
          "text": [
            "Found 5216 images belonging to 2 classes.\n",
            "Found 16 images belonging to 2 classes.\n",
            "Epoch 1/20\n",
            "100/100 [==============================] - 156s 2s/step - loss: 0.5804 - acc: 0.7416 - val_loss: 0.7384 - val_acc: 0.5000\n",
            "Epoch 2/20\n",
            "100/100 [==============================] - 163s 2s/step - loss: 0.5413 - acc: 0.7469 - val_loss: 0.8493 - val_acc: 0.6250\n",
            "Epoch 3/20\n",
            "100/100 [==============================] - 160s 2s/step - loss: 0.4810 - acc: 0.7672 - val_loss: 0.7971 - val_acc: 0.6875\n",
            "Epoch 4/20\n",
            "100/100 [==============================] - 160s 2s/step - loss: 0.4199 - acc: 0.8012 - val_loss: 1.4279 - val_acc: 0.5625\n",
            "Epoch 5/20\n",
            "100/100 [==============================] - 163s 2s/step - loss: 0.3966 - acc: 0.8184 - val_loss: 0.6920 - val_acc: 0.5625\n",
            "Epoch 6/20\n",
            "100/100 [==============================] - 170s 2s/step - loss: 0.3743 - acc: 0.8272 - val_loss: 1.6068 - val_acc: 0.5000\n",
            "Epoch 7/20\n",
            "100/100 [==============================] - 170s 2s/step - loss: 0.3538 - acc: 0.8378 - val_loss: 0.5966 - val_acc: 0.5625\n",
            "Epoch 8/20\n",
            "100/100 [==============================] - 168s 2s/step - loss: 0.3419 - acc: 0.8497 - val_loss: 0.9743 - val_acc: 0.5625\n",
            "Epoch 9/20\n",
            "100/100 [==============================] - 164s 2s/step - loss: 0.3184 - acc: 0.8609 - val_loss: 0.6635 - val_acc: 0.6250\n",
            "Epoch 10/20\n",
            "100/100 [==============================] - 162s 2s/step - loss: 0.3126 - acc: 0.8588 - val_loss: 0.7149 - val_acc: 0.6250\n",
            "Epoch 11/20\n",
            "100/100 [==============================] - 163s 2s/step - loss: 0.3036 - acc: 0.8612 - val_loss: 0.7080 - val_acc: 0.6875\n",
            "Epoch 12/20\n",
            "100/100 [==============================] - 163s 2s/step - loss: 0.2898 - acc: 0.8731 - val_loss: 1.1614 - val_acc: 0.6250\n",
            "Epoch 13/20\n",
            "100/100 [==============================] - 155s 2s/step - loss: 0.2962 - acc: 0.8694 - val_loss: 1.2555 - val_acc: 0.5625\n",
            "Epoch 14/20\n",
            "100/100 [==============================] - 156s 2s/step - loss: 0.2768 - acc: 0.8781 - val_loss: 0.9323 - val_acc: 0.6250\n",
            "Epoch 15/20\n",
            "100/100 [==============================] - 155s 2s/step - loss: 0.2725 - acc: 0.8797 - val_loss: 0.7234 - val_acc: 0.6875\n",
            "Epoch 16/20\n",
            "100/100 [==============================] - 157s 2s/step - loss: 0.2578 - acc: 0.8866 - val_loss: 0.7935 - val_acc: 0.6875\n",
            "Epoch 17/20\n",
            "100/100 [==============================] - 155s 2s/step - loss: 0.2593 - acc: 0.8928 - val_loss: 0.8759 - val_acc: 0.6875\n",
            "Epoch 18/20\n",
            "100/100 [==============================] - 163s 2s/step - loss: 0.2462 - acc: 0.8931 - val_loss: 1.5372 - val_acc: 0.6250\n",
            "Epoch 19/20\n",
            "100/100 [==============================] - 163s 2s/step - loss: 0.2568 - acc: 0.8925 - val_loss: 1.3496 - val_acc: 0.6250\n",
            "Epoch 20/20\n",
            "100/100 [==============================] - 158s 2s/step - loss: 0.2531 - acc: 0.8922 - val_loss: 1.1525 - val_acc: 0.6250\n"
          ],
          "name": "stdout"
        }
      ]
    }
  ]
}